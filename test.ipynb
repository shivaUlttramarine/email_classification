{
 "cells": [
  {
   "cell_type": "code",
   "execution_count": 1,
   "metadata": {},
   "outputs": [
    {
     "name": "stdout",
     "output_type": "stream",
     "text": [
      "        Unnamed: 0           product  \\\n",
      "0                0       credit_card   \n",
      "1                1       credit_card   \n",
      "2                2    retail_banking   \n",
      "3                3  credit_reporting   \n",
      "4                4  credit_reporting   \n",
      "...            ...               ...   \n",
      "162416      162416   debt_collection   \n",
      "162417      162417       credit_card   \n",
      "162418      162418   debt_collection   \n",
      "162419      162419       credit_card   \n",
      "162420      162420  credit_reporting   \n",
      "\n",
      "                                                narrative  \n",
      "0       purchase order day shipping amount receive pro...  \n",
      "1       forwarded message date tue subject please inve...  \n",
      "2       forwarded message cc sent friday pdt subject f...  \n",
      "3       payment history missing credit report speciali...  \n",
      "4       payment history missing credit report made mis...  \n",
      "...                                                   ...  \n",
      "162416                                               name  \n",
      "162417                                               name  \n",
      "162418                                               name  \n",
      "162419                                               name  \n",
      "162420                                               name  \n",
      "\n",
      "[162421 rows x 3 columns]\n"
     ]
    }
   ],
   "source": [
    "import boto3\n",
    "import pandas as pd\n",
    "from io import StringIO\n",
    "\n",
    "# Initialize a session using Amazon S3\n",
    "\n",
    "s3 = boto3.client('s3')\n",
    "\n",
    "\n",
    "\n",
    "# Specify your bucket and file key\n",
    "bucket_name = 'emailclassification'\n",
    "file_key = 'complaints_processed.csv'\n",
    "\n",
    "# Get the object\n",
    "obj = s3.get_object(Bucket=bucket_name, Key=file_key)\n",
    "\n",
    "# Read data into a pandas DataFrame\n",
    "df = pd.read_csv(StringIO(obj['Body'].read().decode('utf-8')))\n",
    "\n",
    "# Display the DataFrame\n",
    "print(df)\n"
   ]
  }
 ],
 "metadata": {
  "kernelspec": {
   "display_name": "env_email",
   "language": "python",
   "name": "python3"
  },
  "language_info": {
   "codemirror_mode": {
    "name": "ipython",
    "version": 3
   },
   "file_extension": ".py",
   "mimetype": "text/x-python",
   "name": "python",
   "nbconvert_exporter": "python",
   "pygments_lexer": "ipython3",
   "version": "3.12.7"
  }
 },
 "nbformat": 4,
 "nbformat_minor": 2
}
